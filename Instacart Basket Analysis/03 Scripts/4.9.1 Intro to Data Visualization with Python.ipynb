{
 "cells": [
  {
   "cell_type": "code",
   "execution_count": 1,
   "id": "f648271a",
   "metadata": {},
   "outputs": [],
   "source": [
    "# Import libraries\n",
    "import pandas as pd\n",
    "import numpy as np\n",
    "import os\n",
    "import matplotlib.pyplot as plt\n",
    "import seaborn as sns\n",
    "import scipy"
   ]
  },
  {
   "cell_type": "code",
   "execution_count": 2,
   "id": "ccfd0343",
   "metadata": {},
   "outputs": [],
   "source": [
    "# Import Data\n",
    "path = r'/Users/azadeh/Documents/Instacart Basket Analysis'"
   ]
  },
  {
   "cell_type": "code",
   "execution_count": 3,
   "id": "88260d70",
   "metadata": {},
   "outputs": [],
   "source": [
    "df_customers = pd.read_csv(os.path.join(path, '02 Data', 'Original Data', 'customers.csv'), index_col = False)"
   ]
  },
  {
   "cell_type": "code",
   "execution_count": 4,
   "id": "eb85419e",
   "metadata": {},
   "outputs": [],
   "source": [
    "# Import orders_products_merged_flags\n",
    "df_ords_prods_merge =  pd.read_pickle(os.path.join(path, '02 Data', 'Prepared Data','orders_products_merged_flags.pkl'))"
   ]
  },
  {
   "cell_type": "markdown",
   "id": "bc033391",
   "metadata": {},
   "source": [
    "# Data Wrangling"
   ]
  },
  {
   "cell_type": "code",
   "execution_count": 5,
   "id": "af29f446",
   "metadata": {},
   "outputs": [
    {
     "data": {
      "text/html": [
       "<div>\n",
       "<style scoped>\n",
       "    .dataframe tbody tr th:only-of-type {\n",
       "        vertical-align: middle;\n",
       "    }\n",
       "\n",
       "    .dataframe tbody tr th {\n",
       "        vertical-align: top;\n",
       "    }\n",
       "\n",
       "    .dataframe thead th {\n",
       "        text-align: right;\n",
       "    }\n",
       "</style>\n",
       "<table border=\"1\" class=\"dataframe\">\n",
       "  <thead>\n",
       "    <tr style=\"text-align: right;\">\n",
       "      <th></th>\n",
       "      <th>user_id</th>\n",
       "      <th>First Name</th>\n",
       "      <th>Surnam</th>\n",
       "      <th>Gender</th>\n",
       "      <th>STATE</th>\n",
       "      <th>Age</th>\n",
       "      <th>date_joined</th>\n",
       "      <th>n_dependants</th>\n",
       "      <th>fam_status</th>\n",
       "      <th>income</th>\n",
       "    </tr>\n",
       "  </thead>\n",
       "  <tbody>\n",
       "    <tr>\n",
       "      <th>0</th>\n",
       "      <td>26711</td>\n",
       "      <td>Deborah</td>\n",
       "      <td>Esquivel</td>\n",
       "      <td>Female</td>\n",
       "      <td>Missouri</td>\n",
       "      <td>48</td>\n",
       "      <td>1/1/2017</td>\n",
       "      <td>3</td>\n",
       "      <td>married</td>\n",
       "      <td>165665</td>\n",
       "    </tr>\n",
       "    <tr>\n",
       "      <th>1</th>\n",
       "      <td>33890</td>\n",
       "      <td>Patricia</td>\n",
       "      <td>Hart</td>\n",
       "      <td>Female</td>\n",
       "      <td>New Mexico</td>\n",
       "      <td>36</td>\n",
       "      <td>1/1/2017</td>\n",
       "      <td>0</td>\n",
       "      <td>single</td>\n",
       "      <td>59285</td>\n",
       "    </tr>\n",
       "    <tr>\n",
       "      <th>2</th>\n",
       "      <td>65803</td>\n",
       "      <td>Kenneth</td>\n",
       "      <td>Farley</td>\n",
       "      <td>Male</td>\n",
       "      <td>Idaho</td>\n",
       "      <td>35</td>\n",
       "      <td>1/1/2017</td>\n",
       "      <td>2</td>\n",
       "      <td>married</td>\n",
       "      <td>99568</td>\n",
       "    </tr>\n",
       "    <tr>\n",
       "      <th>3</th>\n",
       "      <td>125935</td>\n",
       "      <td>Michelle</td>\n",
       "      <td>Hicks</td>\n",
       "      <td>Female</td>\n",
       "      <td>Iowa</td>\n",
       "      <td>40</td>\n",
       "      <td>1/1/2017</td>\n",
       "      <td>0</td>\n",
       "      <td>single</td>\n",
       "      <td>42049</td>\n",
       "    </tr>\n",
       "    <tr>\n",
       "      <th>4</th>\n",
       "      <td>130797</td>\n",
       "      <td>Ann</td>\n",
       "      <td>Gilmore</td>\n",
       "      <td>Female</td>\n",
       "      <td>Maryland</td>\n",
       "      <td>26</td>\n",
       "      <td>1/1/2017</td>\n",
       "      <td>1</td>\n",
       "      <td>married</td>\n",
       "      <td>40374</td>\n",
       "    </tr>\n",
       "  </tbody>\n",
       "</table>\n",
       "</div>"
      ],
      "text/plain": [
       "   user_id First Name    Surnam  Gender       STATE  Age date_joined  \\\n",
       "0    26711    Deborah  Esquivel  Female    Missouri   48    1/1/2017   \n",
       "1    33890   Patricia      Hart  Female  New Mexico   36    1/1/2017   \n",
       "2    65803    Kenneth    Farley    Male       Idaho   35    1/1/2017   \n",
       "3   125935   Michelle     Hicks  Female        Iowa   40    1/1/2017   \n",
       "4   130797        Ann   Gilmore  Female    Maryland   26    1/1/2017   \n",
       "\n",
       "   n_dependants fam_status  income  \n",
       "0             3    married  165665  \n",
       "1             0     single   59285  \n",
       "2             2    married   99568  \n",
       "3             0     single   42049  \n",
       "4             1    married   40374  "
      ]
     },
     "execution_count": 5,
     "metadata": {},
     "output_type": "execute_result"
    }
   ],
   "source": [
    "df_customers.head()"
   ]
  },
  {
   "cell_type": "code",
   "execution_count": 6,
   "id": "dec63dd9",
   "metadata": {},
   "outputs": [
    {
     "data": {
      "text/html": [
       "<div>\n",
       "<style scoped>\n",
       "    .dataframe tbody tr th:only-of-type {\n",
       "        vertical-align: middle;\n",
       "    }\n",
       "\n",
       "    .dataframe tbody tr th {\n",
       "        vertical-align: top;\n",
       "    }\n",
       "\n",
       "    .dataframe thead th {\n",
       "        text-align: right;\n",
       "    }\n",
       "</style>\n",
       "<table border=\"1\" class=\"dataframe\">\n",
       "  <thead>\n",
       "    <tr style=\"text-align: right;\">\n",
       "      <th></th>\n",
       "      <th>user_id</th>\n",
       "      <th>Age</th>\n",
       "      <th>n_dependants</th>\n",
       "      <th>income</th>\n",
       "    </tr>\n",
       "  </thead>\n",
       "  <tbody>\n",
       "    <tr>\n",
       "      <th>count</th>\n",
       "      <td>206209.000000</td>\n",
       "      <td>206209.000000</td>\n",
       "      <td>206209.000000</td>\n",
       "      <td>206209.000000</td>\n",
       "    </tr>\n",
       "    <tr>\n",
       "      <th>mean</th>\n",
       "      <td>103105.000000</td>\n",
       "      <td>49.501646</td>\n",
       "      <td>1.499823</td>\n",
       "      <td>94632.852548</td>\n",
       "    </tr>\n",
       "    <tr>\n",
       "      <th>std</th>\n",
       "      <td>59527.555167</td>\n",
       "      <td>18.480962</td>\n",
       "      <td>1.118433</td>\n",
       "      <td>42473.786988</td>\n",
       "    </tr>\n",
       "    <tr>\n",
       "      <th>min</th>\n",
       "      <td>1.000000</td>\n",
       "      <td>18.000000</td>\n",
       "      <td>0.000000</td>\n",
       "      <td>25903.000000</td>\n",
       "    </tr>\n",
       "    <tr>\n",
       "      <th>25%</th>\n",
       "      <td>51553.000000</td>\n",
       "      <td>33.000000</td>\n",
       "      <td>0.000000</td>\n",
       "      <td>59874.000000</td>\n",
       "    </tr>\n",
       "    <tr>\n",
       "      <th>50%</th>\n",
       "      <td>103105.000000</td>\n",
       "      <td>49.000000</td>\n",
       "      <td>1.000000</td>\n",
       "      <td>93547.000000</td>\n",
       "    </tr>\n",
       "    <tr>\n",
       "      <th>75%</th>\n",
       "      <td>154657.000000</td>\n",
       "      <td>66.000000</td>\n",
       "      <td>3.000000</td>\n",
       "      <td>124244.000000</td>\n",
       "    </tr>\n",
       "    <tr>\n",
       "      <th>max</th>\n",
       "      <td>206209.000000</td>\n",
       "      <td>81.000000</td>\n",
       "      <td>3.000000</td>\n",
       "      <td>593901.000000</td>\n",
       "    </tr>\n",
       "  </tbody>\n",
       "</table>\n",
       "</div>"
      ],
      "text/plain": [
       "             user_id            Age   n_dependants         income\n",
       "count  206209.000000  206209.000000  206209.000000  206209.000000\n",
       "mean   103105.000000      49.501646       1.499823   94632.852548\n",
       "std     59527.555167      18.480962       1.118433   42473.786988\n",
       "min         1.000000      18.000000       0.000000   25903.000000\n",
       "25%     51553.000000      33.000000       0.000000   59874.000000\n",
       "50%    103105.000000      49.000000       1.000000   93547.000000\n",
       "75%    154657.000000      66.000000       3.000000  124244.000000\n",
       "max    206209.000000      81.000000       3.000000  593901.000000"
      ]
     },
     "execution_count": 6,
     "metadata": {},
     "output_type": "execute_result"
    }
   ],
   "source": [
    "df_customers.describe()"
   ]
  },
  {
   "cell_type": "code",
   "execution_count": 7,
   "id": "656e9fa9",
   "metadata": {},
   "outputs": [
    {
     "data": {
      "text/plain": [
       "(206209, 10)"
      ]
     },
     "execution_count": 7,
     "metadata": {},
     "output_type": "execute_result"
    }
   ],
   "source": [
    "df_customers.shape"
   ]
  },
  {
   "cell_type": "code",
   "execution_count": 8,
   "id": "c8918fd6",
   "metadata": {},
   "outputs": [
    {
     "name": "stdout",
     "output_type": "stream",
     "text": [
      "<class 'pandas.core.frame.DataFrame'>\n",
      "RangeIndex: 206209 entries, 0 to 206208\n",
      "Data columns (total 10 columns):\n",
      " #   Column        Non-Null Count   Dtype \n",
      "---  ------        --------------   ----- \n",
      " 0   user_id       206209 non-null  int64 \n",
      " 1   First Name    194950 non-null  object\n",
      " 2   Surnam        206209 non-null  object\n",
      " 3   Gender        206209 non-null  object\n",
      " 4   STATE         206209 non-null  object\n",
      " 5   Age           206209 non-null  int64 \n",
      " 6   date_joined   206209 non-null  object\n",
      " 7   n_dependants  206209 non-null  int64 \n",
      " 8   fam_status    206209 non-null  object\n",
      " 9   income        206209 non-null  int64 \n",
      "dtypes: int64(4), object(6)\n",
      "memory usage: 15.7+ MB\n"
     ]
    }
   ],
   "source": [
    "df_customers.info()"
   ]
  },
  {
   "cell_type": "code",
   "execution_count": 9,
   "id": "c8501e80",
   "metadata": {},
   "outputs": [
    {
     "data": {
      "text/plain": [
       "(206209, 10)"
      ]
     },
     "execution_count": 9,
     "metadata": {},
     "output_type": "execute_result"
    }
   ],
   "source": [
    "df_customers.shape"
   ]
  },
  {
   "cell_type": "markdown",
   "id": "d92b0262",
   "metadata": {},
   "source": [
    "1.Renaming Columns names\n",
    "2.check for missing value (addressing missing values by \"unknown\" imputation)\n",
    "3.changing user_id data type\n",
    "4.finding duplicate\n",
    "5.Check for mixed-type data in df_ords dataframe\n",
    "6.Merge df_ords_prods_merge and df_customers using user_id as a keys"
   ]
  },
  {
   "cell_type": "code",
   "execution_count": 10,
   "id": "7c488dd2",
   "metadata": {},
   "outputs": [],
   "source": [
    "#Renaming Columns names\n",
    "df_customers.rename(columns = {'First Name' : 'first_name'}, inplace = True)\n",
    "df_customers.rename(columns = {'Surnam' : 'surname'}, inplace = True)\n",
    "df_customers.rename(columns = {'STATE' : 'state'}, inplace = True)\n",
    "df_customers.rename(columns = {'n_dependants' : 'dependent_count'}, inplace = True)\n",
    "df_customers.rename(columns = {'Age' : 'age'}, inplace = True)\n",
    "df_customers.rename(columns = {'Gender' : 'gender'}, inplace = True)"
   ]
  },
  {
   "cell_type": "code",
   "execution_count": 11,
   "id": "9ada77c4",
   "metadata": {},
   "outputs": [
    {
     "data": {
      "text/html": [
       "<div>\n",
       "<style scoped>\n",
       "    .dataframe tbody tr th:only-of-type {\n",
       "        vertical-align: middle;\n",
       "    }\n",
       "\n",
       "    .dataframe tbody tr th {\n",
       "        vertical-align: top;\n",
       "    }\n",
       "\n",
       "    .dataframe thead th {\n",
       "        text-align: right;\n",
       "    }\n",
       "</style>\n",
       "<table border=\"1\" class=\"dataframe\">\n",
       "  <thead>\n",
       "    <tr style=\"text-align: right;\">\n",
       "      <th></th>\n",
       "      <th>user_id</th>\n",
       "      <th>first_name</th>\n",
       "      <th>surname</th>\n",
       "      <th>gender</th>\n",
       "      <th>state</th>\n",
       "      <th>age</th>\n",
       "      <th>date_joined</th>\n",
       "      <th>dependent_count</th>\n",
       "      <th>fam_status</th>\n",
       "      <th>income</th>\n",
       "    </tr>\n",
       "  </thead>\n",
       "  <tbody>\n",
       "    <tr>\n",
       "      <th>0</th>\n",
       "      <td>26711</td>\n",
       "      <td>Deborah</td>\n",
       "      <td>Esquivel</td>\n",
       "      <td>Female</td>\n",
       "      <td>Missouri</td>\n",
       "      <td>48</td>\n",
       "      <td>1/1/2017</td>\n",
       "      <td>3</td>\n",
       "      <td>married</td>\n",
       "      <td>165665</td>\n",
       "    </tr>\n",
       "    <tr>\n",
       "      <th>1</th>\n",
       "      <td>33890</td>\n",
       "      <td>Patricia</td>\n",
       "      <td>Hart</td>\n",
       "      <td>Female</td>\n",
       "      <td>New Mexico</td>\n",
       "      <td>36</td>\n",
       "      <td>1/1/2017</td>\n",
       "      <td>0</td>\n",
       "      <td>single</td>\n",
       "      <td>59285</td>\n",
       "    </tr>\n",
       "    <tr>\n",
       "      <th>2</th>\n",
       "      <td>65803</td>\n",
       "      <td>Kenneth</td>\n",
       "      <td>Farley</td>\n",
       "      <td>Male</td>\n",
       "      <td>Idaho</td>\n",
       "      <td>35</td>\n",
       "      <td>1/1/2017</td>\n",
       "      <td>2</td>\n",
       "      <td>married</td>\n",
       "      <td>99568</td>\n",
       "    </tr>\n",
       "    <tr>\n",
       "      <th>3</th>\n",
       "      <td>125935</td>\n",
       "      <td>Michelle</td>\n",
       "      <td>Hicks</td>\n",
       "      <td>Female</td>\n",
       "      <td>Iowa</td>\n",
       "      <td>40</td>\n",
       "      <td>1/1/2017</td>\n",
       "      <td>0</td>\n",
       "      <td>single</td>\n",
       "      <td>42049</td>\n",
       "    </tr>\n",
       "    <tr>\n",
       "      <th>4</th>\n",
       "      <td>130797</td>\n",
       "      <td>Ann</td>\n",
       "      <td>Gilmore</td>\n",
       "      <td>Female</td>\n",
       "      <td>Maryland</td>\n",
       "      <td>26</td>\n",
       "      <td>1/1/2017</td>\n",
       "      <td>1</td>\n",
       "      <td>married</td>\n",
       "      <td>40374</td>\n",
       "    </tr>\n",
       "  </tbody>\n",
       "</table>\n",
       "</div>"
      ],
      "text/plain": [
       "   user_id first_name   surname  gender       state  age date_joined  \\\n",
       "0    26711    Deborah  Esquivel  Female    Missouri   48    1/1/2017   \n",
       "1    33890   Patricia      Hart  Female  New Mexico   36    1/1/2017   \n",
       "2    65803    Kenneth    Farley    Male       Idaho   35    1/1/2017   \n",
       "3   125935   Michelle     Hicks  Female        Iowa   40    1/1/2017   \n",
       "4   130797        Ann   Gilmore  Female    Maryland   26    1/1/2017   \n",
       "\n",
       "   dependent_count fam_status  income  \n",
       "0                3    married  165665  \n",
       "1                0     single   59285  \n",
       "2                2    married   99568  \n",
       "3                0     single   42049  \n",
       "4                1    married   40374  "
      ]
     },
     "execution_count": 11,
     "metadata": {},
     "output_type": "execute_result"
    }
   ],
   "source": [
    "df_customers.head()"
   ]
  },
  {
   "cell_type": "code",
   "execution_count": 12,
   "id": "4b52aadd",
   "metadata": {},
   "outputs": [
    {
     "data": {
      "text/plain": [
       "user_id                0\n",
       "first_name         11259\n",
       "surname                0\n",
       "gender                 0\n",
       "state                  0\n",
       "age                    0\n",
       "date_joined            0\n",
       "dependent_count        0\n",
       "fam_status             0\n",
       "income                 0\n",
       "dtype: int64"
      ]
     },
     "execution_count": 12,
     "metadata": {},
     "output_type": "execute_result"
    }
   ],
   "source": [
    "# check for missing value\n",
    "df_customers.isnull().sum()"
   ]
  },
  {
   "cell_type": "code",
   "execution_count": 13,
   "id": "14998a5d",
   "metadata": {},
   "outputs": [],
   "source": [
    "#addressing missing values by \"unknown\" imputation\n",
    "df_customers['first_name'].fillna('Unknown', inplace=True)"
   ]
  },
  {
   "cell_type": "code",
   "execution_count": 14,
   "id": "8c8f5682",
   "metadata": {},
   "outputs": [
    {
     "data": {
      "text/plain": [
       "user_id            0\n",
       "first_name         0\n",
       "surname            0\n",
       "gender             0\n",
       "state              0\n",
       "age                0\n",
       "date_joined        0\n",
       "dependent_count    0\n",
       "fam_status         0\n",
       "income             0\n",
       "dtype: int64"
      ]
     },
     "execution_count": 14,
     "metadata": {},
     "output_type": "execute_result"
    }
   ],
   "source": [
    "df_customers.isnull().sum()"
   ]
  },
  {
   "cell_type": "code",
   "execution_count": 15,
   "id": "dec206ef",
   "metadata": {},
   "outputs": [],
   "source": [
    "# changing user_id data type\n",
    "df_customers['user_id'] = df_customers['user_id'].astype('str')"
   ]
  },
  {
   "cell_type": "code",
   "execution_count": 16,
   "id": "f12de16e",
   "metadata": {},
   "outputs": [],
   "source": [
    "# changing user_id data type\n",
    "df_ords_prods_merge['user_id'] = df_ords_prods_merge['user_id'].astype('str')"
   ]
  },
  {
   "cell_type": "code",
   "execution_count": 17,
   "id": "05f8f051",
   "metadata": {},
   "outputs": [
    {
     "name": "stdout",
     "output_type": "stream",
     "text": [
      "<class 'pandas.core.frame.DataFrame'>\n",
      "RangeIndex: 206209 entries, 0 to 206208\n",
      "Data columns (total 10 columns):\n",
      " #   Column           Non-Null Count   Dtype \n",
      "---  ------           --------------   ----- \n",
      " 0   user_id          206209 non-null  object\n",
      " 1   first_name       206209 non-null  object\n",
      " 2   surname          206209 non-null  object\n",
      " 3   gender           206209 non-null  object\n",
      " 4   state            206209 non-null  object\n",
      " 5   age              206209 non-null  int64 \n",
      " 6   date_joined      206209 non-null  object\n",
      " 7   dependent_count  206209 non-null  int64 \n",
      " 8   fam_status       206209 non-null  object\n",
      " 9   income           206209 non-null  int64 \n",
      "dtypes: int64(3), object(7)\n",
      "memory usage: 15.7+ MB\n"
     ]
    }
   ],
   "source": [
    "df_customers.info()"
   ]
  },
  {
   "cell_type": "code",
   "execution_count": 18,
   "id": "da37b1f5",
   "metadata": {},
   "outputs": [],
   "source": [
    "# finding duplicate\n",
    "df_dups_customers = df_customers[df_customers.duplicated()]"
   ]
  },
  {
   "cell_type": "code",
   "execution_count": 19,
   "id": "91bed457",
   "metadata": {},
   "outputs": [
    {
     "data": {
      "text/plain": [
       "(0, 10)"
      ]
     },
     "execution_count": 19,
     "metadata": {},
     "output_type": "execute_result"
    }
   ],
   "source": [
    "df_dups_customers.shape"
   ]
  },
  {
   "cell_type": "markdown",
   "id": "5f5a3b78",
   "metadata": {},
   "source": [
    "There is No Duplicate"
   ]
  },
  {
   "cell_type": "code",
   "execution_count": 20,
   "id": "ff9bb16f",
   "metadata": {},
   "outputs": [
    {
     "name": "stdout",
     "output_type": "stream",
     "text": [
      "user_id  consistent\n",
      "first_name  consistent\n",
      "surname  consistent\n",
      "gender  consistent\n",
      "state  consistent\n",
      "age  consistent\n",
      "date_joined  consistent\n",
      "dependent_count  consistent\n",
      "fam_status  consistent\n",
      "income  consistent\n"
     ]
    }
   ],
   "source": [
    "# Check for mixed-type data in df_ords dataframe.\n",
    "\n",
    "for col in df_customers.columns.tolist():\n",
    "  weird = (df_customers[[col]].applymap(type) != df_customers[[col]].iloc[0].apply(type)).any(axis = 1)\n",
    "  if len (df_customers[weird]) > 0:\n",
    "    print (col, ' mixed')\n",
    "  else: print (col, ' consistent')"
   ]
  },
  {
   "cell_type": "code",
   "execution_count": 21,
   "id": "36c293ef",
   "metadata": {},
   "outputs": [
    {
     "data": {
      "text/plain": [
       "(32404859, 26)"
      ]
     },
     "execution_count": 21,
     "metadata": {},
     "output_type": "execute_result"
    }
   ],
   "source": [
    "df_ords_prods_merge.shape"
   ]
  },
  {
   "cell_type": "code",
   "execution_count": 22,
   "id": "0417d7eb",
   "metadata": {},
   "outputs": [
    {
     "data": {
      "text/plain": [
       "(206209, 10)"
      ]
     },
     "execution_count": 22,
     "metadata": {},
     "output_type": "execute_result"
    }
   ],
   "source": [
    "df_customers.shape"
   ]
  },
  {
   "cell_type": "code",
   "execution_count": 23,
   "id": "2dc04723",
   "metadata": {},
   "outputs": [],
   "source": [
    "# Merge df_ords_prods_merge and df_customers using user_id as a keys\n",
    "df_ords_prods_customer_merge = df_ords_prods_merge.merge(df_customers, on = ['user_id'])\n"
   ]
  },
  {
   "cell_type": "code",
   "execution_count": 24,
   "id": "8cc81d66",
   "metadata": {},
   "outputs": [
    {
     "data": {
      "text/plain": [
       "(32404859, 35)"
      ]
     },
     "execution_count": 24,
     "metadata": {},
     "output_type": "execute_result"
    }
   ],
   "source": [
    "df_ords_prods_customer_merge.shape"
   ]
  },
  {
   "cell_type": "code",
   "execution_count": 25,
   "id": "6ca6c6fb",
   "metadata": {},
   "outputs": [
    {
     "data": {
      "text/html": [
       "<div>\n",
       "<style scoped>\n",
       "    .dataframe tbody tr th:only-of-type {\n",
       "        vertical-align: middle;\n",
       "    }\n",
       "\n",
       "    .dataframe tbody tr th {\n",
       "        vertical-align: top;\n",
       "    }\n",
       "\n",
       "    .dataframe thead th {\n",
       "        text-align: right;\n",
       "    }\n",
       "</style>\n",
       "<table border=\"1\" class=\"dataframe\">\n",
       "  <thead>\n",
       "    <tr style=\"text-align: right;\">\n",
       "      <th></th>\n",
       "      <th>Unnamed: 0_x</th>\n",
       "      <th>order_id</th>\n",
       "      <th>user_id</th>\n",
       "      <th>order_number</th>\n",
       "      <th>orders_day_of_week</th>\n",
       "      <th>order_hour_of_day</th>\n",
       "      <th>days since the last order</th>\n",
       "      <th>product_id</th>\n",
       "      <th>add_to_cart_order</th>\n",
       "      <th>reordered</th>\n",
       "      <th>...</th>\n",
       "      <th>order_frequency_flag</th>\n",
       "      <th>first_name</th>\n",
       "      <th>surname</th>\n",
       "      <th>gender</th>\n",
       "      <th>state</th>\n",
       "      <th>age</th>\n",
       "      <th>date_joined</th>\n",
       "      <th>dependent_count</th>\n",
       "      <th>fam_status</th>\n",
       "      <th>income</th>\n",
       "    </tr>\n",
       "  </thead>\n",
       "  <tbody>\n",
       "    <tr>\n",
       "      <th>0</th>\n",
       "      <td>0</td>\n",
       "      <td>2539329</td>\n",
       "      <td>1</td>\n",
       "      <td>1</td>\n",
       "      <td>2</td>\n",
       "      <td>8</td>\n",
       "      <td>NaN</td>\n",
       "      <td>196</td>\n",
       "      <td>1</td>\n",
       "      <td>0</td>\n",
       "      <td>...</td>\n",
       "      <td>Non-frequent</td>\n",
       "      <td>Linda</td>\n",
       "      <td>Nguyen</td>\n",
       "      <td>Female</td>\n",
       "      <td>Alabama</td>\n",
       "      <td>31</td>\n",
       "      <td>2/17/2019</td>\n",
       "      <td>3</td>\n",
       "      <td>married</td>\n",
       "      <td>40423</td>\n",
       "    </tr>\n",
       "    <tr>\n",
       "      <th>1</th>\n",
       "      <td>1</td>\n",
       "      <td>2398795</td>\n",
       "      <td>1</td>\n",
       "      <td>2</td>\n",
       "      <td>3</td>\n",
       "      <td>7</td>\n",
       "      <td>15.0</td>\n",
       "      <td>196</td>\n",
       "      <td>1</td>\n",
       "      <td>1</td>\n",
       "      <td>...</td>\n",
       "      <td>Non-frequent</td>\n",
       "      <td>Linda</td>\n",
       "      <td>Nguyen</td>\n",
       "      <td>Female</td>\n",
       "      <td>Alabama</td>\n",
       "      <td>31</td>\n",
       "      <td>2/17/2019</td>\n",
       "      <td>3</td>\n",
       "      <td>married</td>\n",
       "      <td>40423</td>\n",
       "    </tr>\n",
       "    <tr>\n",
       "      <th>2</th>\n",
       "      <td>2</td>\n",
       "      <td>473747</td>\n",
       "      <td>1</td>\n",
       "      <td>3</td>\n",
       "      <td>3</td>\n",
       "      <td>12</td>\n",
       "      <td>21.0</td>\n",
       "      <td>196</td>\n",
       "      <td>1</td>\n",
       "      <td>1</td>\n",
       "      <td>...</td>\n",
       "      <td>Non-frequent</td>\n",
       "      <td>Linda</td>\n",
       "      <td>Nguyen</td>\n",
       "      <td>Female</td>\n",
       "      <td>Alabama</td>\n",
       "      <td>31</td>\n",
       "      <td>2/17/2019</td>\n",
       "      <td>3</td>\n",
       "      <td>married</td>\n",
       "      <td>40423</td>\n",
       "    </tr>\n",
       "    <tr>\n",
       "      <th>3</th>\n",
       "      <td>3</td>\n",
       "      <td>2254736</td>\n",
       "      <td>1</td>\n",
       "      <td>4</td>\n",
       "      <td>4</td>\n",
       "      <td>7</td>\n",
       "      <td>29.0</td>\n",
       "      <td>196</td>\n",
       "      <td>1</td>\n",
       "      <td>1</td>\n",
       "      <td>...</td>\n",
       "      <td>Non-frequent</td>\n",
       "      <td>Linda</td>\n",
       "      <td>Nguyen</td>\n",
       "      <td>Female</td>\n",
       "      <td>Alabama</td>\n",
       "      <td>31</td>\n",
       "      <td>2/17/2019</td>\n",
       "      <td>3</td>\n",
       "      <td>married</td>\n",
       "      <td>40423</td>\n",
       "    </tr>\n",
       "    <tr>\n",
       "      <th>4</th>\n",
       "      <td>4</td>\n",
       "      <td>431534</td>\n",
       "      <td>1</td>\n",
       "      <td>5</td>\n",
       "      <td>4</td>\n",
       "      <td>15</td>\n",
       "      <td>28.0</td>\n",
       "      <td>196</td>\n",
       "      <td>1</td>\n",
       "      <td>1</td>\n",
       "      <td>...</td>\n",
       "      <td>Non-frequent</td>\n",
       "      <td>Linda</td>\n",
       "      <td>Nguyen</td>\n",
       "      <td>Female</td>\n",
       "      <td>Alabama</td>\n",
       "      <td>31</td>\n",
       "      <td>2/17/2019</td>\n",
       "      <td>3</td>\n",
       "      <td>married</td>\n",
       "      <td>40423</td>\n",
       "    </tr>\n",
       "  </tbody>\n",
       "</table>\n",
       "<p>5 rows × 35 columns</p>\n",
       "</div>"
      ],
      "text/plain": [
       "   Unnamed: 0_x  order_id user_id  order_number  orders_day_of_week  \\\n",
       "0             0   2539329       1             1                   2   \n",
       "1             1   2398795       1             2                   3   \n",
       "2             2    473747       1             3                   3   \n",
       "3             3   2254736       1             4                   4   \n",
       "4             4    431534       1             5                   4   \n",
       "\n",
       "   order_hour_of_day  days since the last order  product_id  \\\n",
       "0                  8                        NaN         196   \n",
       "1                  7                       15.0         196   \n",
       "2                 12                       21.0         196   \n",
       "3                  7                       29.0         196   \n",
       "4                 15                       28.0         196   \n",
       "\n",
       "   add_to_cart_order  reordered  ...  order_frequency_flag first_name  \\\n",
       "0                  1          0  ...          Non-frequent      Linda   \n",
       "1                  1          1  ...          Non-frequent      Linda   \n",
       "2                  1          1  ...          Non-frequent      Linda   \n",
       "3                  1          1  ...          Non-frequent      Linda   \n",
       "4                  1          1  ...          Non-frequent      Linda   \n",
       "\n",
       "   surname  gender    state age date_joined dependent_count fam_status income  \n",
       "0   Nguyen  Female  Alabama  31   2/17/2019               3    married  40423  \n",
       "1   Nguyen  Female  Alabama  31   2/17/2019               3    married  40423  \n",
       "2   Nguyen  Female  Alabama  31   2/17/2019               3    married  40423  \n",
       "3   Nguyen  Female  Alabama  31   2/17/2019               3    married  40423  \n",
       "4   Nguyen  Female  Alabama  31   2/17/2019               3    married  40423  \n",
       "\n",
       "[5 rows x 35 columns]"
      ]
     },
     "execution_count": 25,
     "metadata": {},
     "output_type": "execute_result"
    }
   ],
   "source": [
    "df_ords_prods_customer_merge.head()"
   ]
  },
  {
   "cell_type": "code",
   "execution_count": 26,
   "id": "ac3c548a",
   "metadata": {},
   "outputs": [],
   "source": [
    "#exporting \n",
    "df_ords_prods_customer_merge.to_pickle(os.path.join(path, '02 Data','Prepared Data', 'orders_products_customers_merge.pkl'))"
   ]
  },
  {
   "cell_type": "code",
   "execution_count": null,
   "id": "80fb3d6f",
   "metadata": {},
   "outputs": [],
   "source": []
  }
 ],
 "metadata": {
  "kernelspec": {
   "display_name": "Python 3 (ipykernel)",
   "language": "python",
   "name": "python3"
  },
  "language_info": {
   "codemirror_mode": {
    "name": "ipython",
    "version": 3
   },
   "file_extension": ".py",
   "mimetype": "text/x-python",
   "name": "python",
   "nbconvert_exporter": "python",
   "pygments_lexer": "ipython3",
   "version": "3.11.4"
  }
 },
 "nbformat": 4,
 "nbformat_minor": 5
}
