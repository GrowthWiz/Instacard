{
 "cells": [
  {
   "cell_type": "markdown",
   "id": "115aacc7",
   "metadata": {},
   "source": [
    "#01. Importing libraries"
   ]
  },
  {
   "cell_type": "code",
   "execution_count": 1,
   "id": "a2c83ee8",
   "metadata": {},
   "outputs": [],
   "source": [
    "# Import libraries\n",
    "import pandas as pd\n",
    "import numpy as np\n",
    "import os"
   ]
  },
  {
   "cell_type": "markdown",
   "id": "8ad5ab39",
   "metadata": {},
   "source": [
    "#02. Data types"
   ]
  },
  {
   "cell_type": "code",
   "execution_count": 2,
   "id": "85b96501",
   "metadata": {},
   "outputs": [],
   "source": [
    "x=50"
   ]
  },
  {
   "cell_type": "code",
   "execution_count": 3,
   "id": "11556c47",
   "metadata": {},
   "outputs": [],
   "source": [
    "y=50"
   ]
  },
  {
   "cell_type": "code",
   "execution_count": 4,
   "id": "76855ce9",
   "metadata": {},
   "outputs": [
    {
     "name": "stdout",
     "output_type": "stream",
     "text": [
      "100\n"
     ]
    }
   ],
   "source": [
    "print(x+y)"
   ]
  },
  {
   "cell_type": "code",
   "execution_count": 6,
   "id": "608c0e7d",
   "metadata": {},
   "outputs": [],
   "source": [
    "z=150"
   ]
  },
  {
   "cell_type": "code",
   "execution_count": 7,
   "id": "dbe64331",
   "metadata": {},
   "outputs": [
    {
     "name": "stdout",
     "output_type": "stream",
     "text": [
      "100\n"
     ]
    }
   ],
   "source": [
    "print(z-x)"
   ]
  },
  {
   "cell_type": "code",
   "execution_count": 8,
   "id": "f2faf9fc",
   "metadata": {},
   "outputs": [],
   "source": [
    "a=2"
   ]
  },
  {
   "cell_type": "code",
   "execution_count": 9,
   "id": "25faddcb",
   "metadata": {},
   "outputs": [
    {
     "name": "stdout",
     "output_type": "stream",
     "text": [
      "100\n"
     ]
    }
   ],
   "source": [
    "print(a*x)"
   ]
  },
  {
   "cell_type": "code",
   "execution_count": 10,
   "id": "b91131cc",
   "metadata": {},
   "outputs": [],
   "source": [
    "f=5.45"
   ]
  },
  {
   "cell_type": "code",
   "execution_count": 11,
   "id": "ba8d04aa",
   "metadata": {},
   "outputs": [],
   "source": [
    "e=2.32"
   ]
  },
  {
   "cell_type": "code",
   "execution_count": 12,
   "id": "e545b6fe",
   "metadata": {},
   "outputs": [
    {
     "name": "stdout",
     "output_type": "stream",
     "text": [
      "2.349137931034483\n"
     ]
    }
   ],
   "source": [
    "print(f/e)"
   ]
  },
  {
   "cell_type": "code",
   "execution_count": 13,
   "id": "d71fe93b",
   "metadata": {},
   "outputs": [],
   "source": [
    "g='Inadequate '"
   ]
  },
  {
   "cell_type": "code",
   "execution_count": 14,
   "id": "f939ca24",
   "metadata": {},
   "outputs": [],
   "source": [
    "h='assistance'"
   ]
  },
  {
   "cell_type": "code",
   "execution_count": 15,
   "id": "1c5fb0f7",
   "metadata": {},
   "outputs": [
    {
     "name": "stdout",
     "output_type": "stream",
     "text": [
      "Inadequate assistance\n"
     ]
    }
   ],
   "source": [
    "print(g+h)"
   ]
  },
  {
   "cell_type": "code",
   "execution_count": 16,
   "id": "a1e72296",
   "metadata": {},
   "outputs": [],
   "source": [
    "i='The sun sets'"
   ]
  },
  {
   "cell_type": "code",
   "execution_count": 17,
   "id": "6de26db7",
   "metadata": {},
   "outputs": [],
   "source": [
    "j=' behind the mountains.'"
   ]
  },
  {
   "cell_type": "code",
   "execution_count": 18,
   "id": "635bef18",
   "metadata": {},
   "outputs": [
    {
     "name": "stdout",
     "output_type": "stream",
     "text": [
      "The sun sets behind the mountains.\n"
     ]
    }
   ],
   "source": [
    "print(i+j)"
   ]
  },
  {
   "cell_type": "code",
   "execution_count": null,
   "id": "99721df0",
   "metadata": {},
   "outputs": [],
   "source": []
  },
  {
   "cell_type": "code",
   "execution_count": null,
   "id": "3ed1ea7a",
   "metadata": {},
   "outputs": [],
   "source": []
  },
  {
   "cell_type": "code",
   "execution_count": null,
   "id": "aa4f5714",
   "metadata": {},
   "outputs": [],
   "source": []
  },
  {
   "cell_type": "code",
   "execution_count": null,
   "id": "b587742e",
   "metadata": {},
   "outputs": [],
   "source": []
  },
  {
   "cell_type": "code",
   "execution_count": null,
   "id": "b132e3ba",
   "metadata": {},
   "outputs": [],
   "source": []
  },
  {
   "cell_type": "code",
   "execution_count": null,
   "id": "afd11276",
   "metadata": {},
   "outputs": [],
   "source": []
  },
  {
   "cell_type": "code",
   "execution_count": null,
   "id": "582f3d72",
   "metadata": {},
   "outputs": [],
   "source": []
  },
  {
   "cell_type": "code",
   "execution_count": null,
   "id": "a1bc973f",
   "metadata": {},
   "outputs": [],
   "source": []
  }
 ],
 "metadata": {
  "kernelspec": {
   "display_name": "Python 3 (ipykernel)",
   "language": "python",
   "name": "python3"
  },
  "language_info": {
   "codemirror_mode": {
    "name": "ipython",
    "version": 3
   },
   "file_extension": ".py",
   "mimetype": "text/x-python",
   "name": "python",
   "nbconvert_exporter": "python",
   "pygments_lexer": "ipython3",
   "version": "3.11.4"
  }
 },
 "nbformat": 4,
 "nbformat_minor": 5
}
